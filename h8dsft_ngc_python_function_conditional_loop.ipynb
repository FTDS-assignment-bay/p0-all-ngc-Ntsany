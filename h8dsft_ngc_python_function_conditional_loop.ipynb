{
 "cells": [
  {
   "attachments": {},
   "cell_type": "markdown",
   "metadata": {},
   "source": [
    "TASK #1 - Number of Word\n",
    "Create a function that count the number of word in a sentence\n",
    "Instruction:\n",
    "1.Create function called number_of_word.\n",
    "2.This function takes 1 input, sentence.\n",
    "3.Inside this function, you can utilize .split() method to split the sentence into list of word(s).\n",
    "4.Also, len() function to count the element inside a list.\n",
    "5.Return the number of word from the sentence."
   ]
  },
  {
   "cell_type": "code",
   "execution_count": 1,
   "metadata": {},
   "outputs": [
    {
     "name": "stdout",
     "output_type": "stream",
     "text": [
      "2\n",
      "8\n"
     ]
    }
   ],
   "source": [
    "def number_of_word(sentence):\n",
    "    \"\"\"\n",
    "    fungsi ini memisahkan kalimat berdasarkan spasi untuk \n",
    "    mendapatkan daftar kata dan kemudian\n",
    "    mengembalikan jumlah kata tersebut\n",
    "    \"\"\"\n",
    "    # Memisahkan kalimat menjadi daftar kata\n",
    "    kata = sentence.split()\n",
    "    # Mengembalikan jumlah kata dalam daftar\n",
    "    return len(kata)\n",
    "\n",
    "# Contoh penggunaan:\n",
    "print(number_of_word(\"Hello World!\"))  # Output: 2\n",
    "print(number_of_word(\"Once upon a time in a faraway land\"))  # Output: 7\n"
   ]
  },
  {
   "attachments": {},
   "cell_type": "markdown",
   "metadata": {},
   "source": [
    "TASK #2 - Find Multiple\n",
    "Create a function that will get list of number(s) from a certain range that multiples of given number.\n",
    "Instruction:\n",
    "1.Create function called `find_multiples`.\n",
    "2.This function takes 3 input: `start_range`, `end_range`, and `multiple`.\n",
    "3.From every number within the given range, check if that number is the mutliples of `multiple`.\n",
    "4.Return list of the possible multiple number(s).\n",
    "\n",
    "Example:\n",
    "-Input: find_multiple(start_range= 1,end_range= 20, multiple= 5)\n",
    "-Output: [5, 10, 15, 20]\n",
    "\n",
    "-Input: find_multiple(start_range= 1, end_range= 50, multiple= 10)\n",
    "-Output: [10, 20, 30, 40, 50]"
   ]
  },
  {
   "cell_type": "code",
   "execution_count": 5,
   "metadata": {},
   "outputs": [
    {
     "name": "stdout",
     "output_type": "stream",
     "text": [
      "[5, 10, 15, 20]\n",
      "[10, 20, 30, 40, 50]\n"
     ]
    }
   ],
   "source": [
    "def find_multiples(start_range, end_range, multiple):\n",
    "    \"\"\"\n",
    "    Fungsi ini akan mengembalikan daftar angka dalam rentang tertentu \n",
    "    yang merupakan kelipatan dari angka yang ditentukan\n",
    "    \"\"\"\n",
    "    # Membuat daftar angka dalam rentang yang berupa kelipatan dari angka yang ditentukan\n",
    "    multiples_list = [num for num in range(start_range, end_range + 1) if num % multiple == 0]\n",
    "    return multiples_list\n",
    "\n",
    "# Mencari kelipatan dari 5 antara 1 hingga 20\n",
    "hasil = find_multiples(1, 20, 5)\n",
    "print(hasil)  # Output: [5, 10, 15, 20]\n",
    "# Mencari kelipatan dari 5 antara 1 hingga 20\n",
    "hasil = find_multiples(1, 50, 10)\n",
    "print(hasil)  # Output: [10, 20, 30, 40, 50]\n"
   ]
  },
  {
   "attachments": {},
   "cell_type": "markdown",
   "metadata": {},
   "source": [
    "TASK #3 - Grade Converter"
   ]
  },
  {
   "cell_type": "code",
   "execution_count": 7,
   "metadata": {},
   "outputs": [
    {
     "name": "stdout",
     "output_type": "stream",
     "text": [
      "{'Adam': 2.5, 'Faiz': 4}\n",
      "{'Albert': 'A', 'Dwi': 'B', 'Syahdan': 'D', 'Veronica': 'B'}\n"
     ]
    }
   ],
   "source": [
    "def Grade_Converter(convert_to, **kwargs):\n",
    "    \"\"\"\n",
    "    fungsi ini mengonversi skor siswa menjadi nilai huruf atau gpa\n",
    "    Args:\n",
    "        convert_to (str): 'gpa' atau 'letter_grade'.\n",
    "        **kwargs: Student names and their scores.\n",
    "\n",
    "    Returns:\n",
    "        dict: Nilai yang telah dikonversi untuk setiap siswa\n",
    "    \"\"\"\n",
    "\n",
    "    grade_map = {\n",
    "        (85, 100): ('A', 4),\n",
    "        (70, 84.99): ('B', 3),\n",
    "        (60, 69.99): ('C', 2.5),\n",
    "        (50, 59.99): ('D', 2),\n",
    "        (40, 49.99): ('E', 1.5),\n",
    "        (0, 39.99): ('F', 1)\n",
    "    }\n",
    "\n",
    "    converted_grades = {}\n",
    "    for name, score in kwargs.items():\n",
    "        for score_range, (letter_grade, gpa) in grade_map.items():\n",
    "            if score_range[0] <= score <= score_range[1]:\n",
    "                converted_grades[name] = letter_grade if convert_to == 'letter_grade' else gpa\n",
    "                break\n",
    "\n",
    "    return converted_grades\n",
    "\n",
    "# contoh penggunaan\n",
    "print(Grade_Converter(convert_to='gpa', Adam=62, Faiz=91))  # Output: {'Adam': 2.5, 'Faiz': 4.0}\n",
    "print(Grade_Converter(convert_to='letter_grade', Albert=90, Dwi=82, Syahdan=58, Veronica=84))\n",
    "# Output: {'Albert': 'A', 'Dwi': 'B', 'Syahdan': 'D', 'Veronica':  'B'}"
   ]
  },
  {
   "attachments": {},
   "cell_type": "markdown",
   "metadata": {},
   "source": [
    "TASK #4 - Fibonacci Sequence\n",
    "create a function that will return the value of n-th fibonacci number.\n",
    "Instruction:\n",
    "1.The function will take 1 input parameter, n, represents the asked number from our fibonacci sequence index.\n",
    "2.The fibonacci sequence will start with the value of 0 and 1.\n",
    "3.This function will return the n-th value from fibonacci sequence\n",
    "\n",
    "EXAMPLE:\n",
    "Input: my_function(n=0)\n",
    "-Output: 0\n",
    "\n",
    "-Input: my_function(n=4)\n",
    "-Output: 3\n",
    "\n",
    "-Input: my_function(n=10)\n",
    "-Output: 55"
   ]
  },
  {
   "cell_type": "code",
   "execution_count": 11,
   "metadata": {},
   "outputs": [
    {
     "name": "stdout",
     "output_type": "stream",
     "text": [
      "0\n",
      "3\n",
      "55\n"
     ]
    }
   ],
   "source": [
    "def my_function(n):\n",
    "    \"\"\"\n",
    "    fungsi ini menghitung dan mengembalikan nilai ke-n dari \n",
    "    deret fibonacci dengan pendekatan rekursif\n",
    "    \"\"\"\n",
    "    #merupakan nilai pertama dari deret fibonacci\n",
    "    if n == 0:\n",
    "        return 0\n",
    "    #merupakan nilai kedua dalam deret fibonacci\n",
    "    elif n == 1:\n",
    "        return 1\n",
    "    else:\n",
    "        return my_function(n - 1) + my_function(n - 2)\n",
    "\n",
    "# Contoh penggunaan\n",
    "print(my_function(n=0))  # Output: 0\n",
    "print(my_function(n=4))  # Output: 3\n",
    "print(my_function(n=10)) # Output: 55\n"
   ]
  }
 ],
 "metadata": {
  "kernelspec": {
   "display_name": "base",
   "language": "python",
   "name": "python3"
  },
  "language_info": {
   "codemirror_mode": {
    "name": "ipython",
    "version": 3
   },
   "file_extension": ".py",
   "mimetype": "text/x-python",
   "name": "python",
   "nbconvert_exporter": "python",
   "pygments_lexer": "ipython3",
   "version": "3.9.19"
  },
  "orig_nbformat": 4
 },
 "nbformat": 4,
 "nbformat_minor": 2
}
