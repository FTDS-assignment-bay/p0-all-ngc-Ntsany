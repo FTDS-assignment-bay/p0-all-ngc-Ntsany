{
 "cells": [
  {
   "cell_type": "markdown",
   "metadata": {},
   "source": [
    "NGC 5\n",
    "Nisrina Tsany Sulthanah\n",
    "RMT 38"
   ]
  },
  {
   "attachments": {},
   "cell_type": "markdown",
   "metadata": {},
   "source": [
    "```sql\n",
    "CREATE TABLE Customers (\n",
    "    customer_id SERIAL PRIMARY KEY,\n",
    "    customer_name VARCHAR(70),\n",
    "    city VARCHAR(50)\n",
    ");\n",
    "\n",
    "CREATE TABLE Orders (\n",
    "    order_id SERIAL PRIMARY KEY,\n",
    "    customer_id INT REFERENCES Customers(customer_id),\n",
    "    order_date DATE,\n",
    "    total_amount DECIMAL(10, 2)\n",
    ");\n",
    "\n",
    "INSERT INTO Customers (customer_id, customer_name, city) VALUES\n",
    "(1, 'John Doe', 'New York'),\n",
    "(2, 'Jane Smith', 'Los Angeles'),\n",
    "(3, 'David Johnson', 'Chicago');\n",
    "\n",
    "INSERT INTO Orders (order_id, customer_id, order_date, total_amount) VALUES\n",
    "(1, 1, '2022-01-10', 100.00),\n",
    "(2, 1, '2022-02-15', 150.00),\n",
    "(3, 2, '2022-03-20', 200.00),\n",
    "(4, 3, '2022-04-25', 50.00);\n",
    "\n",
    "SELECT \n",
    "    c.customer_name,\n",
    "    COUNT(o.order_id) total_orders\n",
    "FROM \n",
    "    Customers c\n",
    "LEFT JOIN \n",
    "    Orders o ON c.customer_id = o.customer_id\n",
    "GROUP BY \n",
    "    c.customer_name;\n",
    "\n",
    "```\n"
   ]
  },
  {
   "attachments": {},
   "cell_type": "markdown",
   "metadata": {},
   "source": [
    "![Alt text](output_ngc5_nisrina.png)"
   ]
  }
 ],
 "metadata": {
  "language_info": {
   "name": "python"
  },
  "orig_nbformat": 4
 },
 "nbformat": 4,
 "nbformat_minor": 2
}
